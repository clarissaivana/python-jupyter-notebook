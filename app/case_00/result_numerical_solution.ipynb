{
 "cells": [
  {
   "cell_type": "markdown",
   "id": "d4e69cf6",
   "metadata": {},
   "source": [
    "# result_numerical_solution\n",
    "Di sini disampaikan solusi numerik untuk gerak partikel titik bermuatan dalam medan magnetik tegak lurus arah geraknya."
   ]
  },
  {
   "cell_type": "markdown",
   "id": "610a877c",
   "metadata": {},
   "source": [
    "## finite difference\n",
    "Dengan menggunakan beda hingga maju dapat dituliskan bahwa\n",
    "\n",
    "\\begin{equation}\\tag{32}\n",
    "\\frac{d\\vec{v}}{dt} \\approx \\frac{\\vec{v}(t+\\Delta t) - \\vec{v}(t)} {\\Delta t},\n",
    "\\end{equation}\n",
    "\n",
    "yang kemudian dapat memberikan\n",
    "\n",
    "\\begin{equation}\\tag{33}\n",
    "\\vec{v}(t + \\Delta t) \\approx \\vec{v}(t) + \\frac{d\\vec{v}}{dt} \\Delta t.\n",
    "\\end{equation}\n",
    "\n",
    "Dan dengan cara yang serupa dapat diperoleh\n",
    "\n",
    "\\begin{equation}\\tag{34}\n",
    "\\vec{r}(t + \\Delta t) \\approx \\vec{r}(t) + \\vec{v}(t) \\Delta t.\n",
    "\\end{equation}\n",
    "\n"
   ]
  },
  {
   "cell_type": "markdown",
   "id": "668b5034",
   "metadata": {},
   "source": [
    "## equation of motion\n",
    "Dari Persamaan (6) dapat diperoleh\n",
    "\n",
    "\\begin{equation}\\tag{35}\n",
    "\\frac{d\\vec{v}}{dt} = -\\frac{q}{m} \\vec{B} \\times \\vec{v}.\n",
    "\\end{equation}"
   ]
  },
  {
   "cell_type": "markdown",
   "id": "85267aa2",
   "metadata": {},
   "source": [
    "## velocity\n",
    "Substitusi Persamaan (34) ke suku kedua pada ruas kanan Persamaan (33) akan menghasilkan\n",
    "\n",
    "\\begin{equation}\\tag{36}\n",
    "\\vec{v}(t + \\Delta t) \\approx \\vec{v}(t) + \\left[ -\\frac{q}{m} \\vec{B} \\times \\vec{v}(t) \\right] \\Delta t,\n",
    "\\end{equation}\n",
    "\n",
    "yang dapat diselesaikan langsung secara numerik bila telah mengakomodasi operasi dengan variabel berjenis vektor."
   ]
  },
  {
   "cell_type": "markdown",
   "id": "0ee8d383",
   "metadata": {},
   "source": [
    "Cara lain untuk menyelsaikan Persamaan (36) adalah dengan memisahkan komponen vektor-vektor yang telah diberikan pada Persamaan (1) untuk $\\vec{B}$ dan Persamaan (2) untuk $\\vec{v}$."
   ]
  },
  {
   "cell_type": "code",
   "execution_count": 2,
   "id": "5bd5d510",
   "metadata": {
    "scrolled": true
   },
   "outputs": [],
   "source": [
    "import sys\n",
    "sys.path.insert(2, \"../../butiran\")\n",
    "from ipynb.fs.full.vect3 import Vect3"
   ]
  }
 ],
 "metadata": {
  "authors": [
   {
    "name": "Sparisoma Viridi"
   }
  ],
  "kernelspec": {
   "display_name": "Python 3 (ipykernel)",
   "language": "python",
   "name": "python3"
  },
  "language_info": {
   "codemirror_mode": {
    "name": "ipython",
    "version": 3
   },
   "file_extension": ".py",
   "mimetype": "text/x-python",
   "name": "python",
   "nbconvert_exporter": "python",
   "pygments_lexer": "ipython3",
   "version": "3.9.12"
  },
  "title": "result_numerical_solution"
 },
 "nbformat": 4,
 "nbformat_minor": 5
}
