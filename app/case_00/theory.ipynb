{
 "cells": [
  {
   "cell_type": "markdown",
   "id": "d4e69cf6",
   "metadata": {},
   "source": [
    "# theory\n",
    "Pada bagian ini diberikan informasi untuk membahas gerak partikel titik bermuatan dalam medan magnetik tegak lurus arah geraknya."
   ]
  },
  {
   "cell_type": "markdown",
   "id": "7349fd27",
   "metadata": {},
   "source": [
    "## magnetic field\n",
    "Terdapat medan magnetik eksternal berbentuk\n",
    "\n",
    "\\begin{equation}\\tag{1}\n",
    "\\vec{B} = -B_z \\hat{z},\n",
    "\\end{equation}\n",
    "\n",
    "yang bernilai tetap atau $\\frac{d}{dt}B_z = 0$ dan $B_z \\ne 0$."
   ]
  },
  {
   "cell_type": "markdown",
   "id": "94ebf3cc",
   "metadata": {},
   "source": [
    "## moving charge\n",
    "Sebuat partikel titik bermassa $m$ dan bermuatan $q$, dengan $q > 0$ bergerak dengan kecepatan\n",
    "\n",
    "\\begin{equation}\\tag{2}\n",
    "\\vec{v}(t) = v_x(t) \\hat{x} + v_y(t) \\hat{y},\n",
    "\\end{equation}\n",
    "\n",
    "yang pada saat awal $t = t_0$ akan menjadi kecepatan awal\n",
    "\n",
    "\\begin{equation}\\tag{3}\n",
    "\\vec{v}(t_0) = v_{x0} \\hat{x} + v_{y0} \\hat{y} = \\vec{v}_0.\n",
    "\\end{equation}"
   ]
  },
  {
   "cell_type": "markdown",
   "id": "c08cc2c2",
   "metadata": {},
   "source": [
    "## magnetic force\n",
    "Gaya magnetik yang bekerja pada partikel adalah\n",
    "\n",
    "\\begin{equation}\\tag{4}\n",
    "\\vec{F}_B = q \\vec{v} \\times \\vec{B}.\n",
    "\\end{equation}"
   ]
  },
  {
   "cell_type": "markdown",
   "id": "bdd52122",
   "metadata": {},
   "source": [
    "## 2nd newton's law\n",
    "Hukum II Newton memberikan bahwa\n",
    "\n",
    "\\begin{equation}\\tag{5}\n",
    "\\sum \\vec{F} = m \\vec{a}, \n",
    "\\end{equation}\n",
    "\n",
    "dengan $\\vec{a}$ adalah percepatan benda setiap saat $t$."
   ]
  },
  {
   "cell_type": "markdown",
   "id": "74190f71",
   "metadata": {},
   "source": [
    "## equation of motion\n",
    "Dengan gaya magnetik $\\vec{F}_B$ pada Persamaan (4) merupakan satu-satunya gaya yang bekerja pada benda, akan membuat Persamaan (5) menjadi\n",
    "\n",
    "\\begin{equation}\\tag{6}\n",
    "\\begin{array}{rcl}\n",
    "\\vec{F}_B & = & m \\vec{a} \\newline\n",
    "q \\vec{v} \\times \\vec{B} & = & \\displaystyle m \\frac{d\\vec{v}}{dt} \\newline\n",
    "\\displaystyle \\frac{d\\vec{v}}{dt} + \\left( \\frac{q}{m} \\vec{B} \\right) \\times \\vec{v} & = & 0,\n",
    "\\end{array}\n",
    "\\end{equation}\n",
    "\n",
    "dengan menggunakan $\\vec{a} \\times \\vec{b} = - (\\vec{b} \\times \\vec{a})$. Selanjutnya Persamaan (6) akan dipecahkan untuk mendapatkan gerak benda."
   ]
  }
 ],
 "metadata": {
  "authors": [
   {
    "name": "Sparisoma Viridi"
   }
  ],
  "kernelspec": {
   "display_name": "Python 3 (ipykernel)",
   "language": "python",
   "name": "python3"
  },
  "language_info": {
   "codemirror_mode": {
    "name": "ipython",
    "version": 3
   },
   "file_extension": ".py",
   "mimetype": "text/x-python",
   "name": "python",
   "nbconvert_exporter": "python",
   "pygments_lexer": "ipython3",
   "version": "3.9.12"
  },
  "title": "theory"
 },
 "nbformat": 4,
 "nbformat_minor": 5
}
