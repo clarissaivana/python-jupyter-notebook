{
 "cells": [
  {
   "cell_type": "markdown",
   "id": "d4e69cf6",
   "metadata": {},
   "source": [
    "# result_analytical_solution\n",
    "Solusi analitik untuk gerak partikel titik bermuatan dalam medan magnetik tegak lurus arah geraknya disampaikan di bawah ini."
   ]
  },
  {
   "cell_type": "markdown",
   "id": "8f0c8a54",
   "metadata": {},
   "source": [
    "## coupled differential equations\n",
    "Substitusi bentuk medan magnetik dari Persamaan (1) dan bentuk kecepatan dari Persamaan (2) ke Persamaan (6) akan memberikan\n",
    "\n",
    "\\begin{equation}\\tag{7}\n",
    "\\begin{array}{rcl}\n",
    "\\displaystyle \\frac{d}{dt} \\left[ v_x(t) \\hat{x} + v_y(t) \\hat{y} \\right] + \\left[ \\frac{q}{m} (-B_z \\hat{z}) \\right] \\times  \\left[ v_x(t) \\hat{x} + v_y(t) \\hat{y} \\right] & = & 0 \\newline\n",
    "\\displaystyle \\frac{d v_x(t)}{dt} \\hat{x} + \\frac{d v_y(t)}{dt} \\hat{y} + \\left[ \\frac{q B_z v_y(t)}{m} \\right] \\hat{x} - \\left[ \\frac{q B_z v_x(t)}{m} \\right] \\hat{y} & = \\newline\n",
    "\\displaystyle \\left[ \\frac{d v_x(t)}{dt} + \\frac{q B_z v_y(t)}{m} \\right] \\hat{x} + \\left[ \\frac{d v_y(t)}{dt} - \\frac{q B_z v_x(t)}{m} \\right] \\hat{y} & = &\n",
    "\\end{array}\n",
    "\\end{equation}\n",
    "\n",
    "yang pada ruas kirinya terdiri dari komponen vektor pada dua arah berbeda. Selanjutnya untuk memudahkan dituliskan $v_x = v_x(t)$ dan $v_y = v_y(t)$."
   ]
  },
  {
   "cell_type": "markdown",
   "id": "63dea4a1",
   "metadata": {},
   "source": [
    "Persamaan (7) akan memberikan solusi bila komponen pada masing-masing arah adalah nol, sehingga diperoleh\n",
    "\n",
    "\\begin{equation}\\tag{8}\n",
    "\\frac{d v_x}{dt} + \\left( \\frac{q B_z}{m} \\right) v_y = 0\n",
    "\\end{equation}\n",
    "\n",
    "dan\n",
    "\n",
    "\\begin{equation}\\tag{9}\n",
    "\\frac{d v_y}{dt} - \\left( \\frac{q B_z}{m} \\right) v_x = 0,\n",
    "\\end{equation}\n",
    "\n",
    "yang akan dipecahkan, yang merupakan persamaan diferensial terkopel."
   ]
  },
  {
   "cell_type": "markdown",
   "id": "365a2be1",
   "metadata": {},
   "source": [
    "## coefficient\n",
    "Suatu koefisien dapat didefinsikan\n",
    "\n",
    "\\begin{equation}\\tag{10}\n",
    "\\omega = \\frac{q B_z}{m},\n",
    "\\end{equation}\n",
    "\n",
    "yang memiliki satuan $\\rm rad/s$. Dengan demikian Persamaan (8) dan (9) dapat dituliskan kembali menjadi\n",
    "\n",
    "\\begin{equation}\\tag{11}\n",
    "v_y = - \\frac{1}{\\omega} \\frac{d v_x}{dt}  \n",
    "\\end{equation}\n",
    "\n",
    "dan\n",
    "\n",
    "\\begin{equation}\\tag{12}\n",
    "v_x = \\frac{1}{\\omega} \\frac{d v_y}{dt},\n",
    "\\end{equation}\n",
    "\n",
    "yang terlihat lebih ringkas."
   ]
  },
  {
   "cell_type": "markdown",
   "id": "cbb03857",
   "metadata": {},
   "source": [
    "## second order linear differential equations\n",
    "Substitusi Persamaan (11) ke Persamaan (12) akan memberikan\n",
    "\n",
    "\\begin{equation}\\tag{13}\n",
    "v_x = -\\frac{1}{\\omega^2} \\frac{d^2 v_x}{dt^2}\n",
    "\\end{equation}\n",
    "\n",
    "dan substitusi Persamaan (12) ke Persamaan (11) akan memberikan\n",
    "\n",
    "\\begin{equation}\\tag{14}\n",
    "v_y = -\\frac{1}{\\omega^2} \\frac{d^2 v_y}{dt^2},\n",
    "\\end{equation}\n",
    "\n",
    "yang menjadi persamaan diferensial linier orde kedua untuk sistem osilator harmonik dengan solusi yang telah dikenal."
   ]
  },
  {
   "cell_type": "markdown",
   "id": "61ebe319",
   "metadata": {},
   "source": [
    "## general solution\n",
    "Secara umum solusi keduanya adalah\n",
    "\n",
    "\\begin{equation}\\tag{15}\n",
    "v_{x, y} = A \\cos \\omega t + B \\sin \\omega t.\n",
    "\\end{equation}\n"
   ]
  },
  {
   "cell_type": "markdown",
   "id": "ce319327",
   "metadata": {},
   "source": [
    "Dengan memperhatikan Persamaan (11) dapat diperoleh bahwa\n",
    "\n",
    "\\begin{equation}\\tag{16}\n",
    "v_x = u \\cos \\omega t\n",
    "\\end{equation}\n",
    "\n",
    "dan dengan Persamaan (12) dapat diperoleh bahwa\n",
    "\n",
    "\\begin{equation}\\tag{17}\n",
    "v_y = u \\sin \\omega t,\n",
    "\\end{equation}\n",
    "\n",
    "dengan $u$ adalah suatu bilangan positif menggantikan $A$ dan $B$."
   ]
  },
  {
   "cell_type": "markdown",
   "id": "6b165537",
   "metadata": {},
   "source": [
    "## velocity\n",
    "Agar Persamaan (16) dan (17) bersifat lebih umum sehingga dapat syarat awal pada Persamaan (3), Persaman (16) dan (17) perlu diubah menjadi\n",
    "\n",
    "\\begin{equation}\\tag{18}\n",
    "v_x = u \\cos [\\omega (t - t_0) + \\phi_0]\n",
    "\\end{equation}\n",
    "\n",
    "dan\n",
    "\n",
    "\\begin{equation}\\tag{19}\n",
    "v_y = u \\sin [\\omega (t - t_0) + \\phi_0],\n",
    "\\end{equation}\n",
    "\n",
    "dengan $\\phi_0$ dapat dicari."
   ]
  },
  {
   "cell_type": "markdown",
   "id": "f5aa15d1",
   "metadata": {},
   "source": [
    "Selanjutnya dapat dilakukan\n",
    "\n",
    "\\begin{equation}\\tag{20}\n",
    "v_{x0} = u \\cos \\phi_0\n",
    "\\end{equation}\n",
    "\n",
    "dan\n",
    "\n",
    "\\begin{equation}\\tag{21}\n",
    "v_{y0} = u \\sin \\phi_0,\n",
    "\\end{equation}\n",
    "\n",
    "sehingga\n",
    "\n",
    "\\begin{equation}\\tag{22}\n",
    "\\tan \\phi_0 = \\frac{v_{y0}}{v_{x0}},\n",
    "\\end{equation}\n",
    "\n",
    "di mana baik $v_{x0}$ maupun $v_{y0}$ dapat bernilai positif dan negatif."
   ]
  },
  {
   "cell_type": "markdown",
   "id": "52ca0631",
   "metadata": {},
   "source": [
    "Dari Persamaan (22) dapat diperoleh\n",
    "\n",
    "\\begin{equation}\\tag{23}\n",
    "\\cos \\phi_0 = \\frac{v_{x0}}{\\sqrt{v_{x0}^2 + v_{y0}^2}}\n",
    "\\end{equation}\n",
    "\n",
    "dan\n",
    "\n",
    "\\begin{equation}\\tag{24}\n",
    "\\sin \\phi_0 = \\frac{v_{y0}}{\\sqrt{v_{x0}^2 + v_{y0}^2}}.\n",
    "\\end{equation}\n",
    "\n"
   ]
  },
  {
   "cell_type": "markdown",
   "id": "cda3df79",
   "metadata": {},
   "source": [
    "Baik dari Persamaan (20) dan (23) maupun dari Persamaan (21) dan (24) dapat diperoleh bahwa\n",
    "\n",
    "\\begin{equation}\\tag{25}\n",
    "u = \\sqrt{v_{x0}^2 + v_{x0}^2},\n",
    "\\end{equation}\n",
    "\n",
    "yang merupakan laju gerak benda $u$ atau besar kecepatan tangensial $v_T$."
   ]
  },
  {
   "cell_type": "markdown",
   "id": "c4c1f667",
   "metadata": {},
   "source": [
    "## position\n",
    "Dengan menetapkan posisi benda saat $t = t_0$\n",
    "\n",
    "\\begin{equation}\\tag{26}\n",
    "x(t_0) = x_0\n",
    "\\end{equation}\n",
    "\n",
    "dan\n",
    "\n",
    "\\begin{equation}\\tag{27}\n",
    "y(t_0) = y_0\n",
    "\\end{equation}\n",
    "\n",
    "dapat diperoleh fungsi posisi benda setiap saat $x(t)$ dan $y(t)$."
   ]
  },
  {
   "cell_type": "markdown",
   "id": "394725c2",
   "metadata": {},
   "source": [
    "Dengan mengintegralkan Persamaan (18) dan (19).akan didapatkan\n",
    "\n",
    "\\begin{equation}\\tag{28}\n",
    "x(t) = \\frac{u}{\\omega} \\sin [\\omega (t - t_0) + \\phi_0]\n",
    "\\end{equation}\n",
    "\n",
    "dan\n",
    "\n",
    "\\begin{equation}\\tag{29}\n",
    "y(t) = -\\frac{u}{\\omega} \\cos [\\omega (t - t_0) + \\phi_0].\n",
    "\\end{equation}\n"
   ]
  },
  {
   "cell_type": "markdown",
   "id": "932416f9",
   "metadata": {},
   "source": [
    "Gunakan $t = t_0$ dan Persamaan (25) dan (26) pada Persamaan (28) akan memberikan\n",
    "\n",
    "\\begin{equation}\\tag{30}\n",
    "\\begin{array}{rcl}\n",
    "x - x_0 & = & \\displaystyle \\frac{u}{\\omega} \\sin [\\omega (t - t_0) + \\phi_0] - \\frac{u}{\\omega} \\frac{v_{y0}}{\\sqrt{v_{x0}^2 + v_{y0}^2}} \\newline\n",
    "& = & \\displaystyle \\frac{u}{\\omega} \\sin [\\omega (t - t_0) + \\phi_0] - \\frac{v_y}{\\omega} \\newline\n",
    "x & = & \\displaystyle \\frac{u}{\\omega} \\sin [\\omega (t - t_0) + \\phi_0] + \\left( x_0 - \\frac{v_y}{\\omega} \\right)\n",
    "\\end{array}\n",
    "\\end{equation}\n",
    "\n",
    "dan Persamaan (24) dan (27) pada Persamaan (29) akan memberikan\n",
    "\n",
    "\\begin{equation}\\tag{31}\n",
    "\\begin{array}{rcl}\n",
    "y - y_0 & = & \\displaystyle - \\frac{u}{\\omega} \\cos [\\omega (t - t_0) + \\phi_0] + \\frac{u}{\\omega} \\frac{v_{x0}}{\\sqrt{v_{x0}^2 + v_{y0}^2}} \\newline\n",
    "& = & \\displaystyle - \\frac{u}{\\omega} \\cos [\\omega (t - t_0) + \\phi_0] + \\frac{v_x}{\\omega} \\newline\n",
    "y & = & \\displaystyle - \\frac{u}{\\omega} \\cos [\\omega (t - t_0) + \\phi_0] + \\left( y_0 + \\frac{v_x}{\\omega} \\right).\n",
    "\\end{array}\n",
    "\\end{equation}\n",
    "\n",
    "Dengan demikian posisi benda $t$ setiap saat telah dapat diperoleh."
   ]
  },
  {
   "cell_type": "markdown",
   "id": "971364e5",
   "metadata": {},
   "source": [
    "## particular solution\n",
    "Solusi khusus untuk kecepatan setiap saat diberikan oleh Persamaan (18) dan (19), sedangkan untuk posisi diberikan oleh Persamaan (30) dan (31) dengan syarat awal Persamaan (22), (24), (26), dan (27)."
   ]
  }
 ],
 "metadata": {
  "authors": [
   {
    "name": "Sparisoma Viridi"
   }
  ],
  "kernelspec": {
   "display_name": "Python 3 (ipykernel)",
   "language": "python",
   "name": "python3"
  },
  "language_info": {
   "codemirror_mode": {
    "name": "ipython",
    "version": 3
   },
   "file_extension": ".py",
   "mimetype": "text/x-python",
   "name": "python",
   "nbconvert_exporter": "python",
   "pygments_lexer": "ipython3",
   "version": "3.9.12"
  },
  "title": "result_analytical_solution"
 },
 "nbformat": 4,
 "nbformat_minor": 5
}
